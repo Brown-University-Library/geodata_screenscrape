{
 "cells": [
  {
   "cell_type": "markdown",
   "id": "859019b3-5144-4a36-b17d-eef82c016388",
   "metadata": {},
   "source": [
    "# Screen Scraping Basics with Python"
   ]
  },
  {
   "cell_type": "markdown",
   "id": "2c70e0e0-2c31-44b3-8015-5c54f30c84e9",
   "metadata": {},
   "source": [
    "Frank Donnelly Head of GIS & Data Services, Brown University Library\\\n",
    "Oct 14, 2025 / Revised Oct 15, 2025"
   ]
  },
  {
   "cell_type": "markdown",
   "id": "927228c3-6be2-43fc-a335-c358bfa93635",
   "metadata": {},
   "source": [
    "IRS SOI Exempt Organizations Business Master File Extract\\\n",
    "https://www.irs.gov/charities-non-profits/exempt-organizations-business-master-file-extract-eo-bmf"
   ]
  },
  {
   "cell_type": "markdown",
   "id": "4a4893d5-9fee-479e-882a-35312122f99a",
   "metadata": {},
   "source": [
    "## Brown Univ Colab Users\n",
    "SKIP these blocks if you are NOT using CoLab. Otherwise, run them is you want to operate in CoLab"
   ]
  },
  {
   "cell_type": "markdown",
   "id": "97794957-1f5e-400c-aee9-92d517d9293d",
   "metadata": {},
   "source": [
    "1. Open this notebook with this URL:\\\n",
    "https://colab.research.google.com/github/Brown-University-Library/geodata_screenscrape/blob/main/python_scrape.ipynb\n",
    "2. Then run the following box to import this repo into a temporary folder:"
   ]
  },
  {
   "cell_type": "code",
   "execution_count": null,
   "id": "ea3effcb-8438-49e1-b707-1feb37c5bb00",
   "metadata": {},
   "outputs": [],
   "source": [
    "# GOOGLE COLAB USERS - RUN THIS\n",
    "!git clone https://github.com/Brown-University-Library/geodata_screenscrape/ && mv temp_repo/* temp_repo/.[!.]* . && rm -rf temp_repo"
   ]
  },
  {
   "cell_type": "markdown",
   "id": "b0c6d683-9a03-4756-86e2-53189d0029ec",
   "metadata": {},
   "source": [
    "## Preliminaries"
   ]
  },
  {
   "cell_type": "code",
   "execution_count": null,
   "id": "fe01a2c7-173a-45c5-b037-f86d4242f46a",
   "metadata": {},
   "outputs": [],
   "source": [
    "import requests, os\n",
    "from bs4 import BeautifulSoup as soup\n",
    "from datetime import date\n",
    "from time import sleep\n",
    "from IPython.display import clear_output"
   ]
  },
  {
   "cell_type": "code",
   "execution_count": null,
   "id": "26a4d7d4-ebae-4fa9-9f5a-dceab98be2da",
   "metadata": {},
   "outputs": [],
   "source": [
    "url='https://www.irs.gov/charities-non-profits/exempt-organizations-business-master-file-extract-eo-bmf'\n",
    "dataset='IRS SOI Exempt Organizations Business Master File Extract'\n",
    "person='YOUR NAME, YOUR TITLE, YOUR ORG'\n",
    "today = str(date.today())"
   ]
  },
  {
   "cell_type": "code",
   "execution_count": null,
   "id": "cb92a06d-e769-4c19-8def-0a07875baa7f",
   "metadata": {},
   "outputs": [],
   "source": [
    "outfolder='downloaded-'+today\n",
    "if not os.path.exists(outfolder):\n",
    "    os.makedirs(outfolder)"
   ]
  },
  {
   "cell_type": "markdown",
   "id": "a2125443-2b2c-43f7-a2be-62f23c66cca4",
   "metadata": {},
   "source": [
    "## Get Links"
   ]
  },
  {
   "cell_type": "code",
   "execution_count": null,
   "id": "7c13398c-4954-4f7c-91ca-a6efe10fa65f",
   "metadata": {},
   "outputs": [],
   "source": [
    "webpage=requests.get(url).content\n",
    "soup_page=soup(webpage,'html.parser')\n",
    "page_title = soup_page.title.text\n",
    "container=soup_page.find('div', {'class': 'pup-header-content-rt col-sm-12 col-md-9'}) # all links to data files are in this div\n",
    "#container=soup_page.find('table',{'class': 'table complex-table table-striped table-bordered table-responsive'}) # just links in the table\n",
    "links=container.find_all('a') # all the links, mix of data and non-data"
   ]
  },
  {
   "cell_type": "code",
   "execution_count": null,
   "id": "b73cd6e4-a3dc-49b6-92b7-d813a3dc981f",
   "metadata": {},
   "outputs": [],
   "source": [
    "datalinks={}\n",
    "\n",
    "for lnk in links:\n",
    "    if 'href' in lnk.attrs:\n",
    "        if lnk.attrs['href'].endswith(('.pdf','.csv','.zip')):\n",
    "            filename=lnk.attrs['href'].split('/')[-1]\n",
    "            datalinks[filename]=lnk.attrs['href']"
   ]
  },
  {
   "cell_type": "markdown",
   "id": "54745f75-a4d1-4d53-9a95-f92f41100f71",
   "metadata": {},
   "source": [
    "## Download Data"
   ]
  },
  {
   "cell_type": "code",
   "execution_count": null,
   "id": "0ff00579-4706-4787-8c41-43902ab07cc3",
   "metadata": {},
   "outputs": [],
   "source": [
    "i = 0 \n",
    "errors={}\n",
    "for k,v in datalinks.items():\n",
    "    try:\n",
    "        response = requests.get(v)\n",
    "        response.raise_for_status()\n",
    "        datafile = open(os.path.join(outfolder,k),'wb')\n",
    "        datafile.write(response.content)\n",
    "        datafile.close()\n",
    "        i=i+1\n",
    "        print('Downloaded',k)\n",
    "        #sleep(1) #add a pause between downloads\n",
    "        clear_output(wait=True) #replace print messages with new msg\n",
    "    except requests.exceptions.RequestException as e:\n",
    "        print('Could not retrieve',k,'because of',e)\n",
    "        errors[k]=e\n",
    "\n",
    "print('Finished downloading',i,'files from',page_title)"
   ]
  },
  {
   "cell_type": "markdown",
   "id": "6c1fff56-0056-49fd-b076-a43b6cb78d9a",
   "metadata": {},
   "source": [
    "## Save Webpage, Metadata, Errors"
   ]
  },
  {
   "cell_type": "code",
   "execution_count": null,
   "id": "5ae2be3a-b13a-444c-a293-6fe9b60bbc68",
   "metadata": {},
   "outputs": [],
   "source": [
    "webfile = '_WEBPAGE-{}.html'.format(today)\n",
    "writefile=open(os.path.join(outfolder,webfile),'wb')\n",
    "writefile.write(webpage)\n",
    "writefile.close()"
   ]
  },
  {
   "cell_type": "code",
   "execution_count": null,
   "id": "b3df2dca-fcf3-4e08-ad4a-661b3dc54a82",
   "metadata": {},
   "outputs": [],
   "source": [
    "metafile = \"_METADATA-{}.txt\".format(today)\n",
    "writefile=open(os.path.join(outfolder,metafile),'w')\n",
    "writefile.write(dataset+'\\n') \n",
    "writefile.write('{} files archived on {}\\n'.format(i,today))\n",
    "writefile.write('From webpage {}\\n'.format(page_title)) \n",
    "writefile.write('At {}\\n'.format(url))  \n",
    "writefile.write('By {}'.format(person))  \n",
    "writefile.close() "
   ]
  },
  {
   "cell_type": "code",
   "execution_count": null,
   "id": "71d975da-8433-4d71-9a85-d885483fc7d5",
   "metadata": {},
   "outputs": [],
   "source": [
    "efile = \"_ERRORS-{}.txt\".format(today)\n",
    "epath=os.path.join(outfolder,efile)\n",
    "if os.path.exists(efile):\n",
    "    os.remove(efile)\n",
    "\n",
    "if len(errors)>0:\n",
    "    writefile=open(epath,'w')\n",
    "    writefile.write('Download Errors for {}\\n'.format(page_title))\n",
    "    for ek,ev in errors.items():\n",
    "        writefile.write('{}: {}\\n'.format(ek,ev))\n",
    "    writefile.close()"
   ]
  },
  {
   "cell_type": "code",
   "execution_count": null,
   "id": "b367efee-635f-450c-8e96-4fba69d8a8b8",
   "metadata": {},
   "outputs": [],
   "source": []
  }
 ],
 "metadata": {
  "kernelspec": {
   "display_name": "Python 3 (ipykernel)",
   "language": "python",
   "name": "python3"
  },
  "language_info": {
   "codemirror_mode": {
    "name": "ipython",
    "version": 3
   },
   "file_extension": ".py",
   "mimetype": "text/x-python",
   "name": "python",
   "nbconvert_exporter": "python",
   "pygments_lexer": "ipython3",
   "version": "3.12.4"
  }
 },
 "nbformat": 4,
 "nbformat_minor": 5
}
